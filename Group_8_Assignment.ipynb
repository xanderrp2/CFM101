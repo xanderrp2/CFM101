{
 "cells": [
  {
   "cell_type": "code",
   "execution_count": 2,
   "metadata": {},
   "outputs": [],
   "source": [
    "from IPython.display import display, Math, Latex\n",
    "import pandas as pd\n",
    "import numpy as np\n",
    "import yfinance as yf\n",
    "import matplotlib.pyplot as plt\n",
    "import itertools\n",
    "import copy\n",
    "from datetime import datetime"
   ]
  },
  {
   "cell_type": "markdown",
   "metadata": {},
   "source": [
    "## Group Assignment\n",
    "### Team Number: 8\n",
    "### Team Member Names: Xander, Aggam, Charlie\n",
    "### Team Strategy Chosen: RISKY"
   ]
  },
  {
   "cell_type": "markdown",
   "metadata": {},
   "source": [
    "# Abstract\n",
    "\n",
    "Using Pandas, Numpy, and yfinance, to determine the optimal portfolio for weekly returns given a randomly selected dataframe of stock tickers. (CFM 101 Group competition)\n",
    "\n",
    "The goal of our portfolio generater was to determine the riskiest possible portfolio which we could assemble given various random tickers. To accomplish this, we opted to reduce diversification as much as possilbe. Firstly by reducing the total number of stocks within our portfolio to the minimum allowed by the competition (10), then by placing the majority of our aloted capital (\\\\$750,000) into as few stocks as possible (20% was the most allowed for any individual stock)."
   ]
  },
  {
   "cell_type": "markdown",
   "metadata": {},
   "source": [
    "Because we have chosen the risky strategy, we are going to attempt to reduce diversification as much as possible throughout this portfolio. For this reason, you will see the use of MinStocks far more frequently than MaxStocks. Since the fewer stocks we have in our portfolio, the less diversification/saftey we have.\n",
    "\n",
    "The following are variables given to us for this competition. Additional rules include; permission to buy fractional shares, permission to sell and but immediately, all stocks must be Canadian or US based."
   ]
  },
  {
   "cell_type": "code",
   "execution_count": 3,
   "metadata": {},
   "outputs": [],
   "source": [
    "# The following are variables given to us for this competition\n",
    "MinStocks = 10 #Minimum number of stocks your portfolio must contain\n",
    "MaxStocks = 22 #Maximum number of stocks your portfolio can contain\n",
    "MaxWeight = 0.2 #Maximum weight (in decimal percentage) which a single stock can account for \n",
    "MinWeight = 0.05 #Minimum weight (in decimal percentage) which a single stock must account for \n",
    "Start_date = \"2023-01-01\" #Starting date of our historical data\n",
    "End_date = \"2023-10-31\" #Ending date of our historical data\n",
    "TradingFee = 4.95 #A fee which we must \n",
    "InvestmentAmount = 750000 #Initial capital\n",
    "MinVolume = 150000 #The minimum monthly volume a stock must have to qualify for a portfolio"
   ]
  },
  {
   "cell_type": "markdown",
   "metadata": {},
   "source": [
    "Reading in the CSV file containing the names of the tickers. \"Tickers.csv\" is a file containing a list of strings representing possible tickers for stocks."
   ]
  },
  {
   "cell_type": "code",
   "execution_count": 4,
   "metadata": {
    "scrolled": true
   },
   "outputs": [
    {
     "name": "stdout",
     "output_type": "stream",
     "text": [
      "[*********************100%%**********************]  1 of 1 completed\n"
     ]
    }
   ],
   "source": [
    "tickers = pd.read_csv('Tickers.csv').squeeze()\n",
    "exchangeCADUSD = yf.download('CADUSD=x', start=Start_date, end=End_date).tz_localize(None)"
   ]
  },
  {
   "cell_type": "markdown",
   "metadata": {},
   "source": [
    "Creating a function which will convert USD based stocks into CAD (This is so we can more accurately use the correlation function of pandas)"
   ]
  },
  {
   "cell_type": "code",
   "execution_count": 5,
   "metadata": {},
   "outputs": [],
   "source": [
    "def USDtoCAD(closing):\n",
    "    #Merges the closing data with the exchange data, then removes all na values (This makes sure each closing price is matched with its dates exchange rate)\n",
    "    exchanged = pd.concat([closing.to_frame(),exchangeCADUSD[\"Close\"]],axis=1).dropna()\n",
    "\n",
    "    #Since we are going USD to CAD, we divide by the exchange rate of that day\n",
    "    converted = exchanged.iloc[:,0]/exchanged.iloc[:,1]\n",
    "    return converted"
   ]
  },
  {
   "cell_type": "markdown",
   "metadata": {},
   "source": [
    "validTickers is a function used to determine which tickers can be used in our portfolio out of the given CSV file"
   ]
  },
  {
   "cell_type": "code",
   "execution_count": 6,
   "metadata": {},
   "outputs": [],
   "source": [
    "## Consumes a series or listof possible stock symboles\n",
    "def validTickers (tickers):\n",
    "    ##Creates a new dataframe to hold the valid tickers closing prices\n",
    "    df = pd.DataFrame()\n",
    "\n",
    "    #Itterating through the tickers\n",
    "\n",
    "    for i in tickers:\n",
    "        #NEW CODE\n",
    "        if (i not in df.columns) and ((i+\".TO\") not in df.columns) and (i[:-3] not in df.columns):\n",
    "            #Creating the ticker objects\n",
    "            ticker = yf.Ticker(i)\n",
    "\n",
    "            #Try ensures that even if an error occurs, the code will still run (this gets past the delisted stocks)\n",
    "            try:\n",
    "                #Running .fast_info['currency'] on a stock will cause an error and stop any non-listed stocks from being ran\n",
    "                ticker.fast_info['currency']\n",
    "\n",
    "                #Download the Daily stock history for the given time periods\n",
    "                history = ticker.history(start=Start_date, end=End_date).tz_localize(None)\n",
    "\n",
    "                #Creates a seperate dataframe with the values collected by month\n",
    "                histByMonth = history['Volume'].to_frame().groupby([(history.index.month)])\n",
    "\n",
    "                #Drops any months with less than 18 trading days\n",
    "                histByMonth = histByMonth.filter(lambda x: len(x) > 17)\n",
    "\n",
    "                #Checks for an average monthly volume greater than 150,000\n",
    "                if histByMonth.sum().mean() > MinVolume:\n",
    "                    #Checking if the stock is listed in CAD or USD\n",
    "                    if ticker.fast_info['currency'] == 'CAD':\n",
    "\n",
    "                        #Adding the stock to the valid tickers dataframe\n",
    "                        df[i] = history['Close']\n",
    "\n",
    "                    elif ticker.fast_info['currency'] == 'USD':\n",
    "\n",
    "                        #Adding the stocks closing data to the valid tickers dataframe after converting the prices to CAD\n",
    "                        df[i] = USDtoCAD(history['Close'])\n",
    "            except:\n",
    "                #skips and tickers which cause an error\n",
    "                pass\n",
    "    return df"
   ]
  },
  {
   "cell_type": "markdown",
   "metadata": {},
   "source": [
    "\"if (i not in df.columns) and ((i+\".TO\") not in df.columns) and (i[:-3] not in df.columns)\"\n",
    "Will not add a stock if it (or a variant of it listed on another exchange) has already been added to the list of possible tickers. While it would be more precise to scrub the name of the companies directly and compare them, that would be less efficient and has a greater chance of breaking overtime.\n"
   ]
  },
  {
   "cell_type": "markdown",
   "metadata": {},
   "source": [
    "Here we are creating a dataframe which is housing the closing prices (in CAD) of all our valid ticker options"
   ]
  },
  {
   "cell_type": "code",
   "execution_count": 7,
   "metadata": {},
   "outputs": [
    {
     "name": "stderr",
     "output_type": "stream",
     "text": [
      "PAPL: Data doesn't exist for startDate = 1672549200, endDate = 1698724800\n",
      "HDFC.NS: No price data found, symbol may be delisted (1d 2023-01-01 -> 2023-10-31)\n"
     ]
    }
   ],
   "source": [
    "stocks_close = validTickers(tickers)"
   ]
  },
  {
   "cell_type": "markdown",
   "metadata": {},
   "source": [
    "Gettings the correlation of all pairs of Tickers"
   ]
  },
  {
   "cell_type": "code",
   "execution_count": 9,
   "metadata": {},
   "outputs": [],
   "source": [
    "corr = stocks_close.corr()\n",
    "valid_tickers = list(stocks_close.columns.values)"
   ]
  },
  {
   "cell_type": "markdown",
   "metadata": {},
   "source": [
    "The next three functions are used to determine which stocks have the highest correlation between them. Because we are going for a risky portfolio, we believe it is best to optimize the correlation between our chosen stocks. (This is an attempt to reduce diversification as much as possible)"
   ]
  },
  {
   "cell_type": "code",
   "execution_count": 10,
   "metadata": {},
   "outputs": [],
   "source": [
    "#Takes a list of tickers and returns the average correlation among them\n",
    "def avg_corr(tickers):\n",
    "    #amount of tickers\n",
    "    amount = len(tickers)\n",
    "    #In the case where you only give one ticker, we define\n",
    "    #The correlation to 1, even though there is nothing to\n",
    "    #correlated to. This is just here for failsafe as\n",
    "    #the code would run into a divide by 0 error later for\n",
    "    #the case where amount = 1.\n",
    "    if amount == 0:\n",
    "        return 1;\n",
    "    sum = 0\n",
    "    for i in tickers:\n",
    "        for j in tickers:\n",
    "            if not i==j:\n",
    "                sum+=corr[i][j]\n",
    "    #The average is the sum of each correlation pair divided by the\n",
    "    #total amount of pairs compared which can be represented as n*(n-1)\n",
    "    #Yes you can technically reduce the amount of comparisons by 50%\n",
    "    #but this won't be a problem unless there are like 10000+ stocks.\n",
    "    average = sum/(amount*(amount-1))\n",
    "    return average"
   ]
  },
  {
   "cell_type": "code",
   "execution_count": 11,
   "metadata": {},
   "outputs": [],
   "source": [
    "max_corr = -1\n",
    "selected = []\n",
    "\n",
    "#Given an amount to brute force, a list of stocks and a ticker,\n",
    "#it returns a list of tickers of length n+1, where it includes\n",
    "#n+1 stocks with the highest average correlation between them,\n",
    "#given that the ticker given is 1 of the stocks in the list.\n",
    "#n=amount of tickers to brute force\n",
    "#selections= list of all tickers you can choose from\n",
    "#stock= ticker that has to be included in the returned list\n",
    "def brute_force_nstocks(n, selections, stock):\n",
    "    #Get all combos of the selections.\n",
    "    combos = (list(itertools.combinations(valid_tickers,n)))\n",
    "    max_corr = -1\n",
    "    selected = []\n",
    "    #We check each list in combo to see which has the highest\n",
    "    #average correlation once you add the given ticker\n",
    "    for i in combos:\n",
    "        #We don't want to include the given ticker twice\n",
    "        if not stock in i:\n",
    "            temp = list(i)\n",
    "            temp.append(stock)\n",
    "            corr = avg_corr(temp)\n",
    "            #If this list's average correlation is larger\n",
    "            #than the current max, update the max correlation.\n",
    "            if corr>max_corr:\n",
    "                max_corr = corr\n",
    "                selected = temp\n",
    "    return selected"
   ]
  },
  {
   "cell_type": "markdown",
   "metadata": {},
   "source": [
    "Estimate_best_corr works to estimate the top 10 most correlated stocks calculated by taking the average correlation between all pairs of stocks. As learned in class, if the prices move in a similar proportion and the same direction, they have a high correlation. High correlation means less diversification, therefore making a risky portfolio (which was the startegy chosen)."
   ]
  },
  {
   "cell_type": "code",
   "execution_count": 12,
   "metadata": {},
   "outputs": [
    {
     "name": "stdout",
     "output_type": "stream",
     "text": [
      "['AMZN', 'GOOG', 'GWO.TO', 'ORCL', 'AAPL', 'COST', 'CMCSA', 'CSCO', 'SHOP', 'IBM'] 0.7399828065292531\n"
     ]
    }
   ],
   "source": [
    "#Given how many stocks to brute force for highest average\n",
    "#correlation and given how many total stocks you want\n",
    "#in your portfolio, and the list of all options of tickers\n",
    "#you can choose from, give a rough estimate for\n",
    "#a portfolio with total amount of stocks with the highest\n",
    "#average correlation between them.\n",
    "#We are estimating the best portfolio because\n",
    "def estimate_best_corr(bf, total, selections):\n",
    "    #We subtract 1 from the amount we brute force, because\n",
    "    #we will run the brute_force_nstocks function on each ticker\n",
    "    #which creates a list of stocks of length n+1, so\n",
    "    #substituting bf-1 into n will give us\n",
    "    #a list of length (bf-1)+1 = bf which is ultimately\n",
    "    #how many stocks we want\n",
    "    bf = bf-1\n",
    "    max_corr = -1\n",
    "    estimated_selected = []\n",
    "    #We will run the brute force function on each stock.\n",
    "    for i in selections:\n",
    "        #brute_force_nstocks on said stock\n",
    "        selected = brute_force_nstocks(bf, selections, i)\n",
    "        best_selected = selected\n",
    "        #For the remaining stocks we need to add to the portfolio\n",
    "        #we just repeatedly add the stock that creates the highest\n",
    "        #possible average correlation when added to the list\n",
    "        #of stocks we got from brute_force_nstocks\n",
    "        for j in range(total-bf-1):\n",
    "            temp_max_corr = -1\n",
    "            #Try adding each stock into the portfolio and see which\n",
    "            #one gives us the highest average correlation.\n",
    "            for k in selections:\n",
    "                #We don't want to add the stock if it\n",
    "                #is already in our portfolio\n",
    "                if not k in selected:\n",
    "                    #Create a temp portfolio with the stock added\n",
    "                    temp_selected = copy.copy(selected)\n",
    "                    temp_selected.append(k)\n",
    "                    corr = avg_corr(temp_selected)\n",
    "                    #If the average correlation is the highest\n",
    "                    #we've seen, we update the max correlation\n",
    "                    #and our best new portfolio\n",
    "                    if corr>temp_max_corr:\n",
    "                        temp_max_corr = corr\n",
    "                        best_selected = copy.copy(temp_selected)\n",
    "            #Update portfolio\n",
    "            selected = copy.copy(best_selected)\n",
    "        corr = avg_corr(selected)\n",
    "        if corr>max_corr:\n",
    "            max_corr=corr\n",
    "            estimated_selected = selected\n",
    "    return estimated_selected\n",
    "\n",
    "portfolio = estimate_best_corr(3, 10, valid_tickers)\n",
    "print(portfolio, avg_corr(portfolio))"
   ]
  },
  {
   "cell_type": "markdown",
   "metadata": {},
   "source": [
    "Here, we are ordering the portfolio based on which stocks will give us the greatest (furthest away from zero) returns"
   ]
  },
  {
   "cell_type": "code",
   "execution_count": 13,
   "metadata": {},
   "outputs": [
    {
     "data": {
      "text/html": [
       "<div>\n",
       "<style scoped>\n",
       "    .dataframe tbody tr th:only-of-type {\n",
       "        vertical-align: middle;\n",
       "    }\n",
       "\n",
       "    .dataframe tbody tr th {\n",
       "        vertical-align: top;\n",
       "    }\n",
       "\n",
       "    .dataframe thead th {\n",
       "        text-align: right;\n",
       "    }\n",
       "</style>\n",
       "<table border=\"1\" class=\"dataframe\">\n",
       "  <thead>\n",
       "    <tr style=\"text-align: right;\">\n",
       "      <th></th>\n",
       "      <th>Ticker</th>\n",
       "      <th>Average Weekly Returns(%)</th>\n",
       "    </tr>\n",
       "  </thead>\n",
       "  <tbody>\n",
       "    <tr>\n",
       "      <th>0</th>\n",
       "      <td>AMZN</td>\n",
       "      <td>0.011268</td>\n",
       "    </tr>\n",
       "    <tr>\n",
       "      <th>1</th>\n",
       "      <td>GOOG</td>\n",
       "      <td>0.009832</td>\n",
       "    </tr>\n",
       "    <tr>\n",
       "      <th>2</th>\n",
       "      <td>SHOP</td>\n",
       "      <td>0.009183</td>\n",
       "    </tr>\n",
       "    <tr>\n",
       "      <th>3</th>\n",
       "      <td>AAPL</td>\n",
       "      <td>0.007355</td>\n",
       "    </tr>\n",
       "    <tr>\n",
       "      <th>4</th>\n",
       "      <td>ORCL</td>\n",
       "      <td>0.005558</td>\n",
       "    </tr>\n",
       "    <tr>\n",
       "      <th>5</th>\n",
       "      <td>GWO.TO</td>\n",
       "      <td>0.004313</td>\n",
       "    </tr>\n",
       "    <tr>\n",
       "      <th>6</th>\n",
       "      <td>COST</td>\n",
       "      <td>0.004069</td>\n",
       "    </tr>\n",
       "    <tr>\n",
       "      <th>7</th>\n",
       "      <td>CSCO</td>\n",
       "      <td>0.002951</td>\n",
       "    </tr>\n",
       "    <tr>\n",
       "      <th>8</th>\n",
       "      <td>CMCSA</td>\n",
       "      <td>0.002951</td>\n",
       "    </tr>\n",
       "    <tr>\n",
       "      <th>9</th>\n",
       "      <td>IBM</td>\n",
       "      <td>0.001542</td>\n",
       "    </tr>\n",
       "  </tbody>\n",
       "</table>\n",
       "</div>"
      ],
      "text/plain": [
       "   Ticker  Average Weekly Returns(%)\n",
       "0    AMZN                   0.011268\n",
       "1    GOOG                   0.009832\n",
       "2    SHOP                   0.009183\n",
       "3    AAPL                   0.007355\n",
       "4    ORCL                   0.005558\n",
       "5  GWO.TO                   0.004313\n",
       "6    COST                   0.004069\n",
       "7    CSCO                   0.002951\n",
       "8   CMCSA                   0.002951\n",
       "9     IBM                   0.001542"
      ]
     },
     "execution_count": 13,
     "metadata": {},
     "output_type": "execute_result"
    }
   ],
   "source": [
    "#Returns average weekly return of a stock\n",
    "def weekly_return(ticker):\n",
    "    close = stocks_close[ticker]\n",
    "    returns=close.resample('W').ffill().pct_change()\n",
    "    return returns.mean()\n",
    "\n",
    "#Orders the portfolio in terms of which one we want to give more weight,\n",
    "#and the larger the magnitude of the weekly return is, the higher\n",
    "#it is prioritized.\n",
    "def rankings(portfolio):\n",
    "    #First puts all the tickers and their weekly returns\n",
    "    #into a dictionary\n",
    "    rank = {}\n",
    "    for i in portfolio:\n",
    "        rank[i] = weekly_return(i)\n",
    "    #Sort the dictionary\n",
    "    keys = list(rank.keys())\n",
    "    values = list(rank.values())\n",
    "    sorted_index = np.argsort(values)\n",
    "    ordered = {keys[i]: values[i] for i in sorted_index}\n",
    "\n",
    "    #Since it is in ascending order at this moment\n",
    "    #in the case where the returns are negative,\n",
    "    #we leave the array as it is, as the stock\n",
    "    #with the lowest return (or highest magnitude)\n",
    "    #is already ranked first. But if the returns are positive\n",
    "    #the dict would be fliped, so if the first returns is positive,\n",
    "    #we flip the dictionary\n",
    "    first_val = next(iter(ordered.values()))\n",
    "    if first_val>0:\n",
    "        ordered = dict(reversed(list(ordered.items())))\n",
    "    df = pd.DataFrame(ordered.items())\n",
    "    return df\n",
    "\n",
    "\n",
    "ranks = rankings(portfolio)\n",
    "ranks.columns = [\"Ticker\",\"Average Weekly Returns(%)\"]\n",
    "ranks"
   ]
  },
  {
   "cell_type": "code",
   "execution_count": 14,
   "metadata": {},
   "outputs": [],
   "source": [
    "ranked = ranks[\"Ticker\"].squeeze()\n",
    "tickerObjects = []\n",
    "for i in ranked:\n",
    "    ticker =yf.Ticker(i)\n",
    "    tickerObjects = tickerObjects+ [ticker]"
   ]
  },
  {
   "cell_type": "markdown",
   "metadata": {},
   "source": [
    "BestWeights determines how we should distrubute our wealth amoung our chosen stocks. Here, since we are attempting to reduce diversification as much as possible, it is best to place the most capital into as few stocks as possible. For this reason, we have ordered the portfolio into an order of decreasing magnitude of returns. This is going to allow us to put the most capital into the stocks with the greatest expected returns"
   ]
  },
  {
   "cell_type": "code",
   "execution_count": 15,
   "metadata": {},
   "outputs": [
    {
     "data": {
      "text/plain": [
       "[150000.0,\n",
       " 150000.0,\n",
       " 150000.0,\n",
       " 74950.5,\n",
       " 37500.0,\n",
       " 37500.0,\n",
       " 37500.0,\n",
       " 37500.0,\n",
       " 37500.0,\n",
       " 37500.0]"
      ]
     },
     "execution_count": 15,
     "metadata": {},
     "output_type": "execute_result"
    }
   ],
   "source": [
    "#Putting the highest possible weight into as few stocks as possible\n",
    "#returns a list of 10 numbers that represent how much we put into each stock\n",
    "def BestWeights(numStocks,MaxWeight,MinWeight,InvestmentAmount):\n",
    "    RemainingAmount = InvestmentAmount - TradingFee*numStocks #subtracting the trading fee each time\n",
    "    RemainingStocks = numStocks\n",
    "    MaxAmount = InvestmentAmount*MaxWeight\n",
    "    MinAmount = InvestmentAmount*MinWeight\n",
    "    Amounts = []\n",
    "    #allocates the maximum weight (MaxAmount) to as few stocks as possible\n",
    "    #until the remaining amount allows it and there are more than one stock remaining\n",
    "    while RemainingAmount > MinAmount*(RemainingStocks+1) and RemainingStocks > 1:\n",
    "        RemainingStocks = RemainingStocks - 1\n",
    "        RemainingAmount = RemainingAmount - MaxAmount\n",
    "        Amounts = Amounts + [MaxAmount]\n",
    "    #when the above loop ends (due to insufficient remaining amount or only one stock remaining)\n",
    "    #we assign the minimum weight (MinAmount) to the remaining stocks\n",
    "    while RemainingStocks > 1:\n",
    "        RemainingStocks = RemainingStocks - 1\n",
    "        RemainingAmount = RemainingAmount - MinAmount\n",
    "        Amounts = Amounts + [MinAmount]\n",
    "\n",
    "    Amounts = Amounts + [RemainingAmount]\n",
    "    sortedAmounts = sorted(Amounts, reverse=True) #sorting the list\n",
    "    return sortedAmounts\n",
    "\n",
    "\n",
    "WeightedAmounts = BestWeights(MinStocks,MaxWeight,MinWeight,InvestmentAmount)\n",
    "WeightedAmounts"
   ]
  },
  {
   "cell_type": "markdown",
   "metadata": {},
   "source": [
    "Note that stock #4 has a weight of 9.99% (shown below). This is because we placed the most capital into our highest returning stocks, and the minimum capitital into our lowest returning stocks. The trading fees were taken our of the remaining capital which resulted in stock #4 (our fourth highest expected returning stock) having a negligible difference in weight"
   ]
  },
  {
   "cell_type": "markdown",
   "metadata": {},
   "source": [
    "This part has nothing to do with how we calculate the portfolio. it is simply putting the portfolio together together."
   ]
  },
  {
   "cell_type": "code",
   "execution_count": 16,
   "metadata": {},
   "outputs": [
    {
     "data": {
      "text/html": [
       "<div>\n",
       "<style scoped>\n",
       "    .dataframe tbody tr th:only-of-type {\n",
       "        vertical-align: middle;\n",
       "    }\n",
       "\n",
       "    .dataframe tbody tr th {\n",
       "        vertical-align: top;\n",
       "    }\n",
       "\n",
       "    .dataframe thead th {\n",
       "        text-align: right;\n",
       "    }\n",
       "</style>\n",
       "<table border=\"1\" class=\"dataframe\">\n",
       "  <thead>\n",
       "    <tr style=\"text-align: right;\">\n",
       "      <th></th>\n",
       "      <th>Ticker</th>\n",
       "      <th>Currency</th>\n",
       "      <th>Shares</th>\n",
       "      <th>Value</th>\n",
       "      <th>Weight</th>\n",
       "    </tr>\n",
       "  </thead>\n",
       "  <tbody>\n",
       "    <tr>\n",
       "      <th>1</th>\n",
       "      <td>AMZN</td>\n",
       "      <td>USD</td>\n",
       "      <td>760.389171</td>\n",
       "      <td>150000.0</td>\n",
       "      <td>20.0</td>\n",
       "    </tr>\n",
       "    <tr>\n",
       "      <th>2</th>\n",
       "      <td>GOOG</td>\n",
       "      <td>USD</td>\n",
       "      <td>832.695754</td>\n",
       "      <td>150000.0</td>\n",
       "      <td>20.0</td>\n",
       "    </tr>\n",
       "    <tr>\n",
       "      <th>3</th>\n",
       "      <td>SHOP</td>\n",
       "      <td>USD</td>\n",
       "      <td>1533.919314</td>\n",
       "      <td>150000.0</td>\n",
       "      <td>20.0</td>\n",
       "    </tr>\n",
       "    <tr>\n",
       "      <th>4</th>\n",
       "      <td>AAPL</td>\n",
       "      <td>USD</td>\n",
       "      <td>292.36147</td>\n",
       "      <td>74950.5</td>\n",
       "      <td>9.99</td>\n",
       "    </tr>\n",
       "    <tr>\n",
       "      <th>5</th>\n",
       "      <td>ORCL</td>\n",
       "      <td>USD</td>\n",
       "      <td>239.360523</td>\n",
       "      <td>37500.0</td>\n",
       "      <td>5.0</td>\n",
       "    </tr>\n",
       "    <tr>\n",
       "      <th>6</th>\n",
       "      <td>GWO.TO</td>\n",
       "      <td>CAD</td>\n",
       "      <td>862.267155</td>\n",
       "      <td>37500.0</td>\n",
       "      <td>5.0</td>\n",
       "    </tr>\n",
       "    <tr>\n",
       "      <th>7</th>\n",
       "      <td>COST</td>\n",
       "      <td>USD</td>\n",
       "      <td>46.77104</td>\n",
       "      <td>37500.0</td>\n",
       "      <td>5.0</td>\n",
       "    </tr>\n",
       "    <tr>\n",
       "      <th>8</th>\n",
       "      <td>CSCO</td>\n",
       "      <td>USD</td>\n",
       "      <td>576.055988</td>\n",
       "      <td>37500.0</td>\n",
       "      <td>5.0</td>\n",
       "    </tr>\n",
       "    <tr>\n",
       "      <th>9</th>\n",
       "      <td>CMCSA</td>\n",
       "      <td>USD</td>\n",
       "      <td>660.879102</td>\n",
       "      <td>37500.0</td>\n",
       "      <td>5.0</td>\n",
       "    </tr>\n",
       "    <tr>\n",
       "      <th>10</th>\n",
       "      <td>IBM</td>\n",
       "      <td>USD</td>\n",
       "      <td>175.246235</td>\n",
       "      <td>37500.0</td>\n",
       "      <td>5.0</td>\n",
       "    </tr>\n",
       "  </tbody>\n",
       "</table>\n",
       "</div>"
      ],
      "text/plain": [
       "    Ticker Currency       Shares     Value Weight\n",
       "1     AMZN      USD   760.389171  150000.0   20.0\n",
       "2     GOOG      USD   832.695754  150000.0   20.0\n",
       "3     SHOP      USD  1533.919314  150000.0   20.0\n",
       "4     AAPL      USD    292.36147   74950.5   9.99\n",
       "5     ORCL      USD   239.360523   37500.0    5.0\n",
       "6   GWO.TO      CAD   862.267155   37500.0    5.0\n",
       "7     COST      USD     46.77104   37500.0    5.0\n",
       "8     CSCO      USD   576.055988   37500.0    5.0\n",
       "9    CMCSA      USD   660.879102   37500.0    5.0\n",
       "10     IBM      USD   175.246235   37500.0    5.0"
      ]
     },
     "execution_count": 16,
     "metadata": {},
     "output_type": "execute_result"
    }
   ],
   "source": [
    "Portfolio_Final = pd.DataFrame()\n",
    "Portfolio_Final[\"Ticker\"] = pd.concat([Portfolio_Final,ranks.iloc[:,0]],)\n",
    "\n",
    "counter = 0\n",
    "Portfolio_Final[\"Currency\"] = Portfolio_Final[\"Ticker\"]\n",
    "for i in tickerObjects:\n",
    "    Portfolio_Final[\"Currency\"][counter] = i.fast_info['currency']\n",
    "    counter = counter + 1\n",
    "\n",
    "counter = 0\n",
    "Portfolio_Final[\"Shares\"] = Portfolio_Final[\"Ticker\"]\n",
    "exchange = yf.Ticker(\"CADUSD=x\")\n",
    "for i in tickerObjects:\n",
    "    if i.fast_info['currency'] == 'USD':\n",
    "        Portfolio_Final[\"Shares\"][counter] = (WeightedAmounts[counter]*exchange.fast_info[\"lastPrice\"])/i.fast_info['lastPrice']\n",
    "    else:\n",
    "        Portfolio_Final[\"Shares\"][counter] = WeightedAmounts[counter]/i.fast_info['lastPrice']\n",
    "    counter = counter + 1\n",
    "\n",
    "counter = 0\n",
    "Portfolio_Final[\"Value\"] = Portfolio_Final[\"Ticker\"]\n",
    "for i in tickerObjects:\n",
    "    Portfolio_Final[\"Value\"][counter] = WeightedAmounts[counter]\n",
    "    counter = counter + 1\n",
    "\n",
    "counter = 0\n",
    "Portfolio_Final[\"Weight\"] = Portfolio_Final[\"Ticker\"]\n",
    "for i in tickerObjects:\n",
    "    Portfolio_Final[\"Weight\"][counter] = round((WeightedAmounts[counter]/(InvestmentAmount-(10*TradingFee))*100),2)\n",
    "    counter = counter + 1\n",
    "\n",
    "#Reindexing\n",
    "Portfolio_Final.index = [x for x in range(1,MinStocks+1)]\n",
    "\n",
    "Portfolio_Final"
   ]
  },
  {
   "cell_type": "code",
   "execution_count": 17,
   "metadata": {},
   "outputs": [
    {
     "data": {
      "text/html": [
       "<div>\n",
       "<style scoped>\n",
       "    .dataframe tbody tr th:only-of-type {\n",
       "        vertical-align: middle;\n",
       "    }\n",
       "\n",
       "    .dataframe tbody tr th {\n",
       "        vertical-align: top;\n",
       "    }\n",
       "\n",
       "    .dataframe thead th {\n",
       "        text-align: right;\n",
       "    }\n",
       "</style>\n",
       "<table border=\"1\" class=\"dataframe\">\n",
       "  <thead>\n",
       "    <tr style=\"text-align: right;\">\n",
       "      <th></th>\n",
       "      <th>Ticker</th>\n",
       "      <th>Shares</th>\n",
       "    </tr>\n",
       "  </thead>\n",
       "  <tbody>\n",
       "    <tr>\n",
       "      <th>1</th>\n",
       "      <td>AMZN</td>\n",
       "      <td>760.389171</td>\n",
       "    </tr>\n",
       "    <tr>\n",
       "      <th>2</th>\n",
       "      <td>GOOG</td>\n",
       "      <td>832.695754</td>\n",
       "    </tr>\n",
       "    <tr>\n",
       "      <th>3</th>\n",
       "      <td>SHOP</td>\n",
       "      <td>1533.919314</td>\n",
       "    </tr>\n",
       "    <tr>\n",
       "      <th>4</th>\n",
       "      <td>AAPL</td>\n",
       "      <td>292.36147</td>\n",
       "    </tr>\n",
       "    <tr>\n",
       "      <th>5</th>\n",
       "      <td>ORCL</td>\n",
       "      <td>239.360523</td>\n",
       "    </tr>\n",
       "    <tr>\n",
       "      <th>6</th>\n",
       "      <td>GWO.TO</td>\n",
       "      <td>862.267155</td>\n",
       "    </tr>\n",
       "    <tr>\n",
       "      <th>7</th>\n",
       "      <td>COST</td>\n",
       "      <td>46.77104</td>\n",
       "    </tr>\n",
       "    <tr>\n",
       "      <th>8</th>\n",
       "      <td>CSCO</td>\n",
       "      <td>576.055988</td>\n",
       "    </tr>\n",
       "    <tr>\n",
       "      <th>9</th>\n",
       "      <td>CMCSA</td>\n",
       "      <td>660.879102</td>\n",
       "    </tr>\n",
       "    <tr>\n",
       "      <th>10</th>\n",
       "      <td>IBM</td>\n",
       "      <td>175.246235</td>\n",
       "    </tr>\n",
       "  </tbody>\n",
       "</table>\n",
       "</div>"
      ],
      "text/plain": [
       "    Ticker       Shares\n",
       "1     AMZN   760.389171\n",
       "2     GOOG   832.695754\n",
       "3     SHOP  1533.919314\n",
       "4     AAPL    292.36147\n",
       "5     ORCL   239.360523\n",
       "6   GWO.TO   862.267155\n",
       "7     COST     46.77104\n",
       "8     CSCO   576.055988\n",
       "9    CMCSA   660.879102\n",
       "10     IBM   175.246235"
      ]
     },
     "execution_count": 17,
     "metadata": {},
     "output_type": "execute_result"
    }
   ],
   "source": [
    "data = {\"Ticker\":Portfolio_Final[\"Ticker\"],\"Shares\":Portfolio_Final[\"Shares\"]}\n",
    "Stocks_Finals = pd.DataFrame(data)\n",
    "\n",
    "\n",
    "Stocks_Finals"
   ]
  },
  {
   "cell_type": "code",
   "execution_count": 18,
   "metadata": {},
   "outputs": [],
   "source": [
    "##Exporting the csv file\n",
    "myfile = open(\"Stocks_Group_8.csv\", \"w\")\n",
    "myfile.write(\",Ticker,Shares\\n\")\n",
    "for i in range(1, MinStocks+1):\n",
    "    myfile.write(str(i)+\",\"+Stocks_Finals[\"Ticker\"][i]+\",\"+str(Stocks_Finals[\"Shares\"][i])+ \"\\n\")\n",
    "\n",
    "myfile.close()"
   ]
  },
  {
   "cell_type": "markdown",
   "metadata": {},
   "source": [
    "## Contribution Declaration\n",
    "\n",
    "The following team members made a meaningful contribution to this assignment:\n",
    "\n",
    "Alexander Charlie Aggam"
   ]
  }
 ],
 "metadata": {
  "kernelspec": {
   "display_name": "CFMenv",
   "language": "python",
   "name": "cfmenv"
  },
  "language_info": {
   "codemirror_mode": {
    "name": "ipython",
    "version": 3
   },
   "file_extension": ".py",
   "mimetype": "text/x-python",
   "name": "python",
   "nbconvert_exporter": "python",
   "pygments_lexer": "ipython3",
   "version": "3.11.4"
  }
 },
 "nbformat": 4,
 "nbformat_minor": 2
}
